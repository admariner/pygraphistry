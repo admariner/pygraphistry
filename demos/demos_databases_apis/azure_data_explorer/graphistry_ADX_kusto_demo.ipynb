{
 "cells": [
  {
   "cell_type": "markdown",
   "id": "c80d3a57-7c78-4bc3-bb4d-6b8cbd71f9fc",
   "metadata": {},
   "source": [
    "# Persistent Graph Semantics in Azure Data Explorer & Graphistry Integration\n",
    "\n",
    "## Microsoft Azure Data Explorer Update\n",
    "\n",
    "In a significant step forward for graph analytics, **Microsoft has introduced Persistent Graph Semantics in Azure Data Explorer (ADX)**.  \n",
    "This feature, announced in [this official Azure update](https://azure.microsoft.com/en-us/updates?id=495985), allows users to define **graph projections as persistent database objects**. \n",
    "\n",
    "### Key Benefits:\n",
    "- Define graph relationships using persisted `graph semantics` that live alongside your ADX tables.\n",
    "- Simplifies repeatable graph analysis workflows.\n",
    "- Enables performance optimizations by reusing defined graph topologies.\n",
    "\n",
    "This new capability is especially powerful for users working with large-scale telemetry, security, and relational datasets natively in Kusto Query Language (KQL).\n",
    "\n",
    "---\n",
    "\n",
    "## Graphistry Adopts ADX Persistent Graph Semantics\n",
    "\n",
    "The graph visualization and investigation platform **Graphistry** has embraced this enhancement in its latest release.\n",
    "\n",
    "### What’s New in Graphistry:\n",
    "- **Native KQL Support**: You can now use KQL directly within Graphistry to run ADX queries and return dataframes.\n",
    "- **Persistent Graph Queries**: Pass the name of your persistent graph and perform investigations in Graphistry's GPU-accelerated visual interface..\n",
    "\n",
    "\n",
    "### Why It Matters:\n",
    "With persistent graph semantics and Graphistry’s GPU-accelerated visual interface, analysts can now:\n",
    "- Query, explore, and visualize ADX graph data with minimal friction.\n",
    "- Quickly pivot between raw table views and high-context relationship maps.\n",
    "- Investigate threats, fraud, IoT, and more—faster and more collaboratively.\n"
   ]
  },
  {
   "cell_type": "markdown",
   "id": "a761a5b8-5a67-4d18-a72f-f04387aad089",
   "metadata": {},
   "source": [
    "# Getting started\n",
    "\n",
    "Getting started with Graphistry is a easy as registering for a free account on [Graphistry Hub](https://hub.graphistry.com) and install Graphistry in your environment.\n",
    "\n",
    "Install Graphistry and start your Kusto graph journey.\n",
    "```bash\n",
    "pip install graphistry\n",
    "\n",
    "```\n",
    "Python:\n",
    "```python\n",
    "import graphistry\n",
    "\n",
    "graphistry.register()\n",
    "graphistry.configure_kusto(cluster=KUSTO_CONF['cluster'], database=KUSTO_CONF['database'])\n",
    "\n",
    "dfs = graphistry.kql(\"YourTable | take 5\")\n",
    "\n",
    "for df in dfs:\n",
    "    print(df)\n",
    "```"
   ]
  },
  {
   "cell_type": "markdown",
   "id": "4b579c55-a691-49c3-a962-f88982722c00",
   "metadata": {},
   "source": [
    "# Taking it for a spin"
   ]
  },
  {
   "cell_type": "code",
   "execution_count": 2,
   "id": "e84ffb6f-baf5-46a4-bb4e-ea0ac6bf0731",
   "metadata": {},
   "outputs": [],
   "source": [
    "import graphistry"
   ]
  },
  {
   "cell_type": "code",
   "execution_count": null,
   "id": "46524eb4-2781-4996-a8f8-f594f8c2e28d",
   "metadata": {},
   "outputs": [],
   "source": [
    "KUSTO_CONF = {\n",
    "    \"cluster\": \"https://<clustername>.<region>.kusto.windows.net\",\n",
    "    \"database\": \"YourDatabase\"\n",
    "}\n",
    "\n",
    "GRAPHISTRY_CONF = {\n",
    "    \"personal_key_id\": \"YOUR_KEY_ID\",\n",
    "    \"personal_key_secret\": \"YOUR_SECRET\",\n",
    "    \"server\": \"hub.graphistry.com\"\n",
    "}"
   ]
  },
  {
   "cell_type": "code",
   "execution_count": null,
   "id": "683b3d47-667f-4002-acda-cd1a6b56329c",
   "metadata": {},
   "outputs": [],
   "source": [
    "graphistry.register(api=3, \n",
    "                    personal_key_id=GRAPHISTRY_CONF['personal_key_id'], \n",
    "                    personal_key_secret=GRAPHISTRY_CONF['personal_key_secret'], \n",
    "                    server=GRAPHISTRY_CONF['server'])\n",
    "\n",
    "graphistry.configure_kusto(cluster=KUSTO_CONF['cluster'], \n",
    "                           database=KUSTO_CONF['database'])"
   ]
  },
  {
   "cell_type": "markdown",
   "id": "0134053a-9305-4b17-b5d8-d18d6b343654",
   "metadata": {},
   "source": [
    "## Ingest data into your Azure Data Explorer cluster.\n",
    "\n",
    "Import the RedTeam50k dataset used in our [UMAP cyber demo notebook](https://github.com/graphistry/pygraphistry/blob/master/demos/ai/cyber/cyber-redteam-umap-demo.ipynb) into your Azure Data Explorer cluster.\n",
    "\n",
    "The dataset is a massaged version of the dataset publish by Alexander D. Kent.\n",
    "\n",
    "\n",
    "Data citation:\n",
    "```\n",
    "A. D. Kent, “Comprehensive, Multi-Source Cybersecurity Events,”\n",
    "Los Alamos National Laboratory, http://dx.doi.org/10.17021/1179829, 2015.\n",
    "\n",
    "@Misc{kent-2015-cyberdata1,\n",
    "  author =     {Alexander D. Kent},\n",
    "  title =      {{Comprehensive, Multi-Source Cyber-Security Events}},\n",
    "  year =       {2015},\n",
    "  howpublished = {Los Alamos National Laboratory},\n",
    "  doi = {10.17021/1179829}\n",
    "}\n",
    "```\n"
   ]
  },
  {
   "cell_type": "markdown",
   "id": "3922a620-dd35-4dde-bea5-082e27ebdc02",
   "metadata": {},
   "source": [
    "### Building the Kusto query"
   ]
  },
  {
   "cell_type": "code",
   "execution_count": null,
   "id": "b6422f38-4fbb-4939-b761-0879ef18961c",
   "metadata": {},
   "outputs": [],
   "source": [
    "query = \"\"\".execute script <|\n",
    ".create-or-alter function graphistryRedTeam50k () {\n",
    "    externaldata(index:long, event_time:long, src_domain:string, dst_domain:string, src_computer:string, dst_computer:string, auth_type:string, logontype:string, authentication_orientation:string, success_or_failure:string, RED:int, feats:string, feats2:string)\n",
    "    [\n",
    "        h@\"https://raw.githubusercontent.com/graphistry/pygraphistry/master/demos/data/graphistry_redteam50k.csv\"\n",
    "    ]\n",
    "    with(format=\"csv\", ignoreFirstRecord=true)\n",
    "    | extend event_time = datetime(2024-01-01) + event_time * 1s\n",
    "}\n",
    "\"\"\""
   ]
  },
  {
   "cell_type": "markdown",
   "id": "8e0be386-9984-4224-835c-ddbe1cd3baa6",
   "metadata": {},
   "source": [
    "### Executing using graphistry\n",
    "\n",
    "\n",
    "With your registered and configured pygraphistry object it is now easy to execute the query we built.\n",
    "\n",
    "The function returns a list of dataframes. "
   ]
  },
  {
   "cell_type": "code",
   "execution_count": null,
   "id": "e6f2a171-f814-4f19-883d-71b28886865e",
   "metadata": {},
   "outputs": [],
   "source": [
    "dfs = graphistry.kql(query)\n",
    "\n",
    "\n",
    "# Adding a simple check the \n",
    "if len(dfs) == 1:\n",
    "    print(dfs[0])"
   ]
  },
  {
   "cell_type": "markdown",
   "id": "e264c9ba-aea8-42b8-a585-bebf97fa8acb",
   "metadata": {},
   "source": [
    "### Grabbing a sample of data"
   ]
  },
  {
   "cell_type": "code",
   "execution_count": null,
   "id": "834409ca-5d5b-4a2e-a629-4b2615155c2a",
   "metadata": {},
   "outputs": [],
   "source": [
    "# Grabbing the first dataframe\n",
    "\n",
    "graphistry.kql(\"graphistryRedTeam50k | take 10\")[0]"
   ]
  },
  {
   "cell_type": "markdown",
   "id": "72e19568-3045-4662-bab4-167f4e3c7b63",
   "metadata": {},
   "source": [
    "## Building the schema and persisting the graph\n",
    "\n",
    "A graph model defines the specifications of a graph stored in your database metadata. It includes:\n",
    "\n",
    "Schema definition: Node and edge types with their properties\n",
    "* Data source mappings: Instructions for building the graph from tabular data\n",
    "* Labels: Both static (predefined) and dynamic (generated at runtime) labels for nodes and edges\n",
    "* Graph models contain the blueprint for creating graph snapshots, not the actual graph data.\n",
    "\n",
    "Read more: [Kusto Graph models](https://learn.microsoft.com/en-us/kusto/management/graph/graph-persistent-overview?view=microsoft-fabric#graph-models)"
   ]
  },
  {
   "cell_type": "code",
   "execution_count": null,
   "id": "3a4edacb-5a6c-4376-994f-131ccc8156f7",
   "metadata": {},
   "outputs": [],
   "source": [
    "query = \"\"\"\n",
    "{\n",
    "    \"Schema\": {\n",
    "        \"Nodes\": {\n",
    "            \"Computer\": {\"computerName\": \"string\", \"RED\":\"int\"},\n",
    "            \"Domain\": {\"domainName\": \"string\"}\n",
    "        },\n",
    "        \"Edges\": {\n",
    "            \"AUTHENTICATES\": {\n",
    "                \"event_time\": \"datetime\",\n",
    "                \"src_computer\": \"string\",\n",
    "                \"dst_computer\": \"string\",\n",
    "                \"src_domain\": \"string\",\n",
    "                \"dst_domain\": \"string\",\n",
    "                \"auth_type\": \"string\",\n",
    "                \"logontype\": \"string\",\n",
    "                \"authentication_orientation\": \"string\",\n",
    "                \"success_or_failure\": \"string\",\n",
    "                \"RED\": \"int\"\n",
    "            }\n",
    "        }\n",
    "    },\n",
    "    \"Definition\": {\n",
    "        \"Steps\": [\n",
    "            {\n",
    "                \"Kind\": \"AddNodes\",\n",
    "                \"Query\": \"graphistryRedTeam50k | project computerName = src_computer, RED, nodeType = 'Computer'\",\n",
    "                \"NodeIdColumn\": \"computerName\",\n",
    "                \"Labels\": [\"Computer\"],\n",
    "                \"LabelsColumn\": \"nodeType\"\n",
    "            },\n",
    "            {\n",
    "                \"Kind\": \"AddNodes\",\n",
    "                \"Query\": \"graphistryRedTeam50k | project computerName = dst_computer, RED, nodeType = 'Computer'\",\n",
    "                \"NodeIdColumn\": \"computerName\",\n",
    "                \"Labels\": [\"Computer\"],\n",
    "                \"LabelsColumn\": \"nodeType\"\n",
    "            },\n",
    "            {\n",
    "                \"Kind\": \"AddNodes\",\n",
    "                \"Query\": \"graphistryRedTeam50k | project domainName = src_domain, nodeType = 'Domain'\",\n",
    "                \"NodeIdColumn\": \"domainName\",\n",
    "                \"Labels\": [\"Domain\"],\n",
    "                \"LabelsColumn\": \"nodeType\"\n",
    "            },\n",
    "            {\n",
    "                \"Kind\": \"AddNodes\",\n",
    "                \"Query\": \"graphistryRedTeam50k | project domainName = dst_domain, nodeType = 'Domain'\",\n",
    "                \"NodeIdColumn\": \"domainName\",\n",
    "                \"Labels\": [\"Domain\"],\n",
    "                \"LabelsColumn\": \"nodeType\"\n",
    "            },\n",
    "            {\n",
    "                \"Kind\": \"AddEdges\",\n",
    "                \"Query\": \"graphistryRedTeam50k | project event_time, src_computer, dst_computer, src_domain, dst_domain, auth_type, logontype, authentication_orientation, success_or_failure, RED\",\n",
    "                \"SourceColumn\": \"src_computer\",\n",
    "                \"TargetColumn\": \"dst_computer\",\n",
    "                \"Labels\": [\"AUTHENTICATES\"]\n",
    "            }\n",
    "        ]\n",
    "    }\n",
    "}\n",
    "\"\"\"\n",
    "\n",
    "\n",
    "graph_name = \"graphistryRedTeamGraph\"\n",
    "persist_query = f\".create-or-alter graph_model {graph_name} {query}\""
   ]
  },
  {
   "cell_type": "code",
   "execution_count": null,
   "id": "e9461400-f0dc-49c2-b523-8bc0a42f2698",
   "metadata": {},
   "outputs": [],
   "source": [
    "graphistry.kql(persist_query)"
   ]
  },
  {
   "cell_type": "markdown",
   "id": "bd837ec7-8d20-4757-8ac7-61be8c246c4e",
   "metadata": {},
   "source": [
    "## Making the snapshot\n",
    "\n",
    "A graph snapshot is the actual graph instance materialized from a graph model. It represents:\n",
    "\n",
    "* A specific point-in-time view of the data as defined by the model\n",
    "* The nodes, edges, and their properties in a queryable format\n",
    "* A self-contained entity that persists until explicitly removed\n",
    "\n",
    "Snapshots are the entities you query when working with persistent graphs. \n",
    "Read more: [Kusto Graph snapshot](https://learn.microsoft.com/en-us/kusto/management/graph/graph-persistent-overview?view=microsoft-fabric#graph-snapshots)\n"
   ]
  },
  {
   "cell_type": "code",
   "execution_count": null,
   "id": "66ee02f4-dd21-43d9-977b-31b366a52257",
   "metadata": {},
   "outputs": [],
   "source": [
    "snapshot_name = \"InitialSnap\"\n",
    "graph_snapshot_query = f\".make graph_snapshot {snapshot_name} from {graph_name}\"\n",
    "\n",
    "graphistry.kql(graph_snapshot_query)"
   ]
  },
  {
   "cell_type": "markdown",
   "id": "039b7224-c387-4262-86c1-16eea1c518d7",
   "metadata": {},
   "source": [
    "# Fetching the graph and plotting\n",
    "\n",
    "\n",
    "Once your **data**, **persistent graph** and **snapshot** is created in your Azure Data Explorer cluster it is time to see the power of Graphistry's GPU-accelerated visual interface.\n",
    "\n",
    "The kusto_graph function accepts two parameters. \n",
    "The name of the graph, and the name of your snapshot **(snap_name=\"name\")**. If you don't provide a snapshot it will grab the latest snapshot.\n",
    "\n",
    "The function returns a Graphistry plottable object.\n",
    "\n",
    "You can inspect the nodes and edges, add customizations or .plot() it as is."
   ]
  },
  {
   "cell_type": "code",
   "execution_count": null,
   "id": "b7b51e72-cc58-4ef8-8189-4353fc2f87cc",
   "metadata": {},
   "outputs": [],
   "source": [
    "g = graphistry.kusto_graph(graph_name, snap_name=snapshot_name)"
   ]
  },
  {
   "cell_type": "markdown",
   "id": "46d71bbb-92ec-41cb-86e7-0296cc02dc8a",
   "metadata": {},
   "source": [
    "## Plotting your object"
   ]
  },
  {
   "cell_type": "code",
   "execution_count": null,
   "id": "e4aa923b-bdb6-4104-9a0f-348487fd9041",
   "metadata": {},
   "outputs": [],
   "source": [
    "g.plot()"
   ]
  },
  {
   "cell_type": "markdown",
   "id": "f0fb5c7e-5356-4448-ac4b-2887f00529d2",
   "metadata": {},
   "source": [
    "### Changing colors, icons and more"
   ]
  },
  {
   "cell_type": "markdown",
   "id": "a23bda5b-1f39-46f0-a634-73071c3c512d",
   "metadata": {},
   "source": [
    "#### Encode point color\n",
    "\n",
    "\n",
    "Our data consists of two datasets where one contains verified red team activity. In the dataset these are tagged with the value 1 in the column **RED**.\n",
    "\n",
    "Let's make our red nodes pop out in our visualization."
   ]
  },
  {
   "cell_type": "code",
   "execution_count": null,
   "id": "0d15a4b9-431f-4b74-bc3c-dbfc4bf3d637",
   "metadata": {},
   "outputs": [],
   "source": [
    "g2 = g.encode_point_color(\n",
    "    \"RED\",\n",
    "    categorical_mapping={\n",
    "        1: \"red\"\n",
    "    },\n",
    "    default_mapping='blue'\n",
    ")\n",
    "\n",
    "g2.plot()"
   ]
  },
  {
   "cell_type": "markdown",
   "id": "f3c5f1bd-ce65-4dce-b6f9-9aae48527727",
   "metadata": {},
   "source": [
    "#### Encode icons\n",
    "\n",
    "\n",
    "As our data is split into two different type of nodes **\"Computer\"** and **\"Domain\"**.\n",
    "\n",
    "Give the different node types it's own Icon."
   ]
  },
  {
   "cell_type": "code",
   "execution_count": null,
   "id": "24201fbf-53a3-45dc-b235-cc45abc7d923",
   "metadata": {},
   "outputs": [],
   "source": [
    "g3 = g2.encode_point_icon(\n",
    "    'nodeType',\n",
    "    shape=\"circle\",\n",
    "    categorical_mapping={\n",
    "        \"Computer\": \"laptop\", \n",
    "        \"Domain\": \"server\"\n",
    "    },\n",
    "    default_mapping=\"question\")\n",
    "\n",
    "g3.plot()"
   ]
  }
 ],
 "metadata": {
  "kernelspec": {
   "display_name": "Python 3.11",
   "language": "python",
   "name": "python311"
  },
  "language_info": {
   "codemirror_mode": {
    "name": "ipython",
    "version": 3
   },
   "file_extension": ".py",
   "mimetype": "text/x-python",
   "name": "python",
   "nbconvert_exporter": "python",
   "pygments_lexer": "ipython3",
   "version": "3.11.10"
  }
 },
 "nbformat": 4,
 "nbformat_minor": 5
}
